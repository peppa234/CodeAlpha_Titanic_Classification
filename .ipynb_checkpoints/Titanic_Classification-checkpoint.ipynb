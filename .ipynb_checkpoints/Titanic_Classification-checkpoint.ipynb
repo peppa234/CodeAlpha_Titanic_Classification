{
 "cells": [
  {
   "cell_type": "markdown",
   "id": "3450c629-54ca-415b-9cc8-27e9b11eb93b",
   "metadata": {},
   "source": [
    "1. **Processing the data**"
   ]
  },
  {
   "cell_type": "code",
   "execution_count": 2,
   "id": "76811fad-c6d4-402c-a14f-1c113fd308d2",
   "metadata": {},
   "outputs": [
    {
     "name": "stdout",
     "output_type": "stream",
     "text": [
      "   Pclass  Sex   Age     Fare  Embarked\n",
      "0       3    0  22.0   7.2500         2\n",
      "1       1    1  38.0  71.2833         0\n",
      "2       3    1  26.0   7.9250         2\n",
      "3       1    1  35.0  53.1000         2\n",
      "4       3    0  35.0   8.0500         2\n"
     ]
    }
   ],
   "source": [
    "import pandas as pd\n",
    "import numpy as np\n",
    "import matplotlib.pyplot as plt\n",
    "import seaborn as sns\n",
    "\n",
    "df = pd.read_csv(\"train.csv\")\n",
    "\n",
    "# Handling missing values\n",
    "df['Age'] = df['Age'].fillna(df['Age'].mean()) #imputing using the mean since the Age column is an integer datatype\n",
    "df['Cabin'] = df['Cabin'].fillna(df['Cabin'].mode()[0]) \n",
    "df['Embarked'] = df['Embarked'].fillna(df['Embarked'].mode()[0]) #imputing using the mode\n",
    "\n",
    "# Encoding categorical variables\n",
    "df['Sex'] = df['Sex'].map({'male': 0, 'female': 1})  \n",
    "df['Embarked'] = df['Embarked'].map({'C': 0, 'Q': 1, 'S': 2})\n",
    "\n",
    "\n",
    "print(df[['Pclass', 'Sex', 'Age', 'Fare', 'Embarked']].head())\n"
   ]
  },
  {
   "cell_type": "code",
   "execution_count": 4,
   "id": "61e72c05-5580-4d14-ba28-71c3b7b31fd9",
   "metadata": {},
   "outputs": [
    {
     "data": {
      "text/html": [
       "<div>\n",
       "<style scoped>\n",
       "    .dataframe tbody tr th:only-of-type {\n",
       "        vertical-align: middle;\n",
       "    }\n",
       "\n",
       "    .dataframe tbody tr th {\n",
       "        vertical-align: top;\n",
       "    }\n",
       "\n",
       "    .dataframe thead th {\n",
       "        text-align: right;\n",
       "    }\n",
       "</style>\n",
       "<table border=\"1\" class=\"dataframe\">\n",
       "  <thead>\n",
       "    <tr style=\"text-align: right;\">\n",
       "      <th></th>\n",
       "      <th>PassengerId</th>\n",
       "      <th>Survived</th>\n",
       "      <th>Pclass</th>\n",
       "      <th>Name</th>\n",
       "      <th>Sex</th>\n",
       "      <th>Age</th>\n",
       "      <th>SibSp</th>\n",
       "      <th>Parch</th>\n",
       "      <th>Ticket</th>\n",
       "      <th>Fare</th>\n",
       "      <th>Cabin</th>\n",
       "      <th>Embarked</th>\n",
       "    </tr>\n",
       "  </thead>\n",
       "  <tbody>\n",
       "    <tr>\n",
       "      <th>0</th>\n",
       "      <td>1</td>\n",
       "      <td>0</td>\n",
       "      <td>3</td>\n",
       "      <td>Braund, Mr. Owen Harris</td>\n",
       "      <td>0</td>\n",
       "      <td>22.0</td>\n",
       "      <td>1</td>\n",
       "      <td>0</td>\n",
       "      <td>A/5 21171</td>\n",
       "      <td>7.2500</td>\n",
       "      <td>B96 B98</td>\n",
       "      <td>2</td>\n",
       "    </tr>\n",
       "    <tr>\n",
       "      <th>1</th>\n",
       "      <td>2</td>\n",
       "      <td>1</td>\n",
       "      <td>1</td>\n",
       "      <td>Cumings, Mrs. John Bradley (Florence Briggs Th...</td>\n",
       "      <td>1</td>\n",
       "      <td>38.0</td>\n",
       "      <td>1</td>\n",
       "      <td>0</td>\n",
       "      <td>PC 17599</td>\n",
       "      <td>71.2833</td>\n",
       "      <td>C85</td>\n",
       "      <td>0</td>\n",
       "    </tr>\n",
       "    <tr>\n",
       "      <th>2</th>\n",
       "      <td>3</td>\n",
       "      <td>1</td>\n",
       "      <td>3</td>\n",
       "      <td>Heikkinen, Miss. Laina</td>\n",
       "      <td>1</td>\n",
       "      <td>26.0</td>\n",
       "      <td>0</td>\n",
       "      <td>0</td>\n",
       "      <td>STON/O2. 3101282</td>\n",
       "      <td>7.9250</td>\n",
       "      <td>B96 B98</td>\n",
       "      <td>2</td>\n",
       "    </tr>\n",
       "    <tr>\n",
       "      <th>3</th>\n",
       "      <td>4</td>\n",
       "      <td>1</td>\n",
       "      <td>1</td>\n",
       "      <td>Futrelle, Mrs. Jacques Heath (Lily May Peel)</td>\n",
       "      <td>1</td>\n",
       "      <td>35.0</td>\n",
       "      <td>1</td>\n",
       "      <td>0</td>\n",
       "      <td>113803</td>\n",
       "      <td>53.1000</td>\n",
       "      <td>C123</td>\n",
       "      <td>2</td>\n",
       "    </tr>\n",
       "    <tr>\n",
       "      <th>4</th>\n",
       "      <td>5</td>\n",
       "      <td>0</td>\n",
       "      <td>3</td>\n",
       "      <td>Allen, Mr. William Henry</td>\n",
       "      <td>0</td>\n",
       "      <td>35.0</td>\n",
       "      <td>0</td>\n",
       "      <td>0</td>\n",
       "      <td>373450</td>\n",
       "      <td>8.0500</td>\n",
       "      <td>B96 B98</td>\n",
       "      <td>2</td>\n",
       "    </tr>\n",
       "  </tbody>\n",
       "</table>\n",
       "</div>"
      ],
      "text/plain": [
       "   PassengerId  Survived  Pclass  \\\n",
       "0            1         0       3   \n",
       "1            2         1       1   \n",
       "2            3         1       3   \n",
       "3            4         1       1   \n",
       "4            5         0       3   \n",
       "\n",
       "                                                Name  Sex   Age  SibSp  Parch  \\\n",
       "0                            Braund, Mr. Owen Harris    0  22.0      1      0   \n",
       "1  Cumings, Mrs. John Bradley (Florence Briggs Th...    1  38.0      1      0   \n",
       "2                             Heikkinen, Miss. Laina    1  26.0      0      0   \n",
       "3       Futrelle, Mrs. Jacques Heath (Lily May Peel)    1  35.0      1      0   \n",
       "4                           Allen, Mr. William Henry    0  35.0      0      0   \n",
       "\n",
       "             Ticket     Fare    Cabin  Embarked  \n",
       "0         A/5 21171   7.2500  B96 B98         2  \n",
       "1          PC 17599  71.2833      C85         0  \n",
       "2  STON/O2. 3101282   7.9250  B96 B98         2  \n",
       "3            113803  53.1000     C123         2  \n",
       "4            373450   8.0500  B96 B98         2  "
      ]
     },
     "execution_count": 4,
     "metadata": {},
     "output_type": "execute_result"
    }
   ],
   "source": [
    "df.head()"
   ]
  },
  {
   "cell_type": "markdown",
   "id": "a93a5949-70cb-4021-8c0c-d3e340c9b2bc",
   "metadata": {},
   "source": [
    "2. **Exploratory Dat analysis (EDA)** "
   ]
  },
  {
   "cell_type": "code",
   "execution_count": null,
   "id": "09b42b3c-0a59-4594-a27d-db0c7be39966",
   "metadata": {},
   "outputs": [],
   "source": [
    "# Gender and survival count\n",
    "plt.figure(figsize=(10, 6))\n",
    "sns.countplot(data=df, x='Sex', hue='Survived', palette='coolwarm')\n",
    "plt.title('Survival Count by Gender')\n",
    "plt.xlabel('Gender')  #0--> male , 1-->Female\n",
    "plt.ylabel('Count')\n",
    "plt.show()\n",
    "\n",
    "# Pclass and survival count\n",
    "plt.figure(figsize=(10, 6))\n",
    "sns.countplot(data=df, x='Pclass', hue='Survived', palette='coolwarm')\n",
    "plt.title('Survival Count by Pclass')\n",
    "plt.xlabel('Pclass')\n",
    "plt.ylabel('Count')\n",
    "plt.show()\n",
    "\n",
    "# Age and survival density\n",
    "plt.figure(figsize=(10, 6))\n",
    "sns.kdeplot(data=df, x='Age', hue='Survived', fill=True, palette='coolwarm')\n",
    "plt.title('Survival Likelihood Based on Age')\n",
    "plt.xlabel('Age')\n",
    "plt.ylabel('Density')\n",
    "plt.show()\n",
    "\n",
    "# \"Fare\" and survival distribution\n",
    "plt.figure(figsize=(10, 6))\n",
    "sns.histplot(data=df, x='Fare', hue='Survived', kde=True, palette='coolwarm')\n",
    "plt.title('Fare Distribution by Survival')\n",
    "plt.xlabel('Fare')\n",
    "plt.ylabel('Density')\n",
    "plt.show()\n",
    "\n",
    "# \"Embarked\" and survival count\n",
    "plt.figure(figsize=(10, 6))\n",
    "sns.countplot(data=df, x='Embarked', hue='Survived', palette='coolwarm')\n",
    "plt.title('Survival Count by Embarked')\n",
    "plt.xlabel('Embarked')\n",
    "plt.ylabel('Count')\n",
    "plt.show()\n"
   ]
  },
  {
   "cell_type": "markdown",
   "id": "74684cba-7079-49cc-acc8-6eff2ed6b416",
   "metadata": {},
   "source": [
    "notes : \n",
    "\n",
    "  - Female passengers were more likely to survive than male passengers\n",
    "  - Pclass A passengers have a higher chance of surviving than the other class passengers.\n",
    "  - passengers from the age range : [10-40] had a higher chance of surviving\n",
    "  - There appears to be a strong correlation between the fare paid and the likelihood of survival, with \n",
    "     higher-fare passengers more likely to have survived the disaster.\n",
    "  - Passengers who boarded the Titanic in groups had a better chance of survival compared to those who \n",
    "     boarded alone.\n",
    "    \n",
    "**The Titanic disaster was influenced by a complex interplay of *socioeconomic*, *social*, and *demographic* factors that ultimately determined the survival outcomes of the passengers.**\n",
    "\n",
    "    "
   ]
  },
  {
   "cell_type": "markdown",
   "id": "69962040-b5a2-436e-aa69-3b6269ae2f2f",
   "metadata": {},
   "source": [
    "3. **Creating the Model** : "
   ]
  },
  {
   "cell_type": "code",
   "execution_count": 14,
   "id": "39e2cb59-df00-4d62-930f-e3a444351d0a",
   "metadata": {},
   "outputs": [
    {
     "name": "stdout",
     "output_type": "stream",
     "text": [
      "Optimization terminated successfully.\n",
      "         Current function value: 0.448437\n",
      "         Iterations 6\n",
      "                           Logit Regression Results                           \n",
      "==============================================================================\n",
      "Dep. Variable:               Survived   No. Observations:                  891\n",
      "Model:                          Logit   Df Residuals:                      885\n",
      "Method:                           MLE   Df Model:                            5\n",
      "Date:                Sat, 17 Aug 2024   Pseudo R-squ.:                  0.3266\n",
      "Time:                        15:26:12   Log-Likelihood:                -399.56\n",
      "converged:                       True   LL-Null:                       -593.33\n",
      "Covariance Type:            nonrobust   LLR p-value:                 1.437e-81\n",
      "==============================================================================\n",
      "                 coef    std err          z      P>|z|      [0.025      0.975]\n",
      "------------------------------------------------------------------------------\n",
      "const          2.5075      0.503      4.984      0.000       1.522       3.494\n",
      "Pclass        -1.1453      0.136     -8.423      0.000      -1.412      -0.879\n",
      "Sex            2.5982      0.188     13.828      0.000       2.230       2.966\n",
      "Age           -0.0334      0.007     -4.497      0.000      -0.048      -0.019\n",
      "Fare          -0.0003      0.002     -0.150      0.881      -0.004       0.004\n",
      "Embarked      -0.2796      0.113     -2.479      0.013      -0.501      -0.059\n",
      "==============================================================================\n"
     ]
    }
   ],
   "source": [
    "import statsmodels.api as sm\n",
    "\n",
    "# The selected features are the ones that are most relevant to the chances of survival\n",
    "X = df[['Pclass', 'Sex', 'Age', 'Fare', 'Embarked']]\n",
    "y = df['Survived']\n",
    "\n",
    "\n",
    "X = sm.add_constant(X)\n",
    "\n",
    "\n",
    "model = sm.Logit(y, X)\n",
    "result = model.fit()\n",
    "\n",
    "\n",
    "print(result.summary())\n"
   ]
  },
  {
   "cell_type": "markdown",
   "id": "4d90f302-e53a-4e05-bd6d-130ab2755e3f",
   "metadata": {},
   "source": [
    "- Let's test the model with a simple example "
   ]
  },
  {
   "cell_type": "code",
   "execution_count": 19,
   "id": "f91daa06-c074-47ed-bf19-09aa60c3d3fe",
   "metadata": {},
   "outputs": [
    {
     "name": "stdout",
     "output_type": "stream",
     "text": [
      "Survival Probability: 0.6254454741825868\n"
     ]
    }
   ],
   "source": [
    "test_data = pd.DataFrame({\n",
    "    'const': [1],  # constant term\n",
    "    'Pclass': [1],\n",
    "    'Sex': [0],\n",
    "    'Age': [25],\n",
    "    'Fare': [50],\n",
    "    'Embarked': [0]  #male , Pclass:1 , 25yo , Fare:50 , embarked : alone \n",
    "})\n",
    "\n",
    "test_data = test_data[X.columns] \n",
    "\n",
    "# Predict using the model\n",
    "prediction = result.predict(test_data)\n",
    "print(\"Survival Probability:\", prediction[0])"
   ]
  },
  {
   "cell_type": "markdown",
   "id": "79d07ed1-2880-4c17-895f-830825732928",
   "metadata": {},
   "source": [
    "**Note**: \n",
    "notice that the passenger with these feateures (Pclass:1 , Male , 25yo , Payed 50$ for the fare , Embarked Alone) , has a **62.54%** chance of survival , based on our model .  "
   ]
  },
  {
   "cell_type": "code",
   "execution_count": null,
   "id": "a717c361-bd17-430e-9d17-7609b8180107",
   "metadata": {},
   "outputs": [],
   "source": []
  }
 ],
 "metadata": {
  "kernelspec": {
   "display_name": "Python 3 (ipykernel)",
   "language": "python",
   "name": "python3"
  },
  "language_info": {
   "codemirror_mode": {
    "name": "ipython",
    "version": 3
   },
   "file_extension": ".py",
   "mimetype": "text/x-python",
   "name": "python",
   "nbconvert_exporter": "python",
   "pygments_lexer": "ipython3",
   "version": "3.12.4"
  }
 },
 "nbformat": 4,
 "nbformat_minor": 5
}
